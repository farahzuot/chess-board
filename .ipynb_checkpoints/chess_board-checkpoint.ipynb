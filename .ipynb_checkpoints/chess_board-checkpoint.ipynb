{
 "cells": [
  {
   "cell_type": "markdown",
   "metadata": {},
   "source": [
    "# Chess board"
   ]
  },
  {
   "cell_type": "code",
   "execution_count": 4,
   "metadata": {},
   "outputs": [],
   "source": [
    "import numpy as np"
   ]
  },
  {
   "cell_type": "code",
   "execution_count": 26,
   "metadata": {},
   "outputs": [],
   "source": [
    "import matplotlib.pyplot as plot\n",
    "import matplotlib.image as mpimg"
   ]
  },
  {
   "cell_type": "code",
   "execution_count": 130,
   "metadata": {},
   "outputs": [],
   "source": [
    "class ChessBoard:\n",
    "   \n",
    "    red = [1,.2,0]\n",
    "    blue = [0,0,1]\n",
    "    white = [1,1,1]\n",
    "    \n",
    "    def __init__(self):\n",
    "        self.grid = np.zeros([8,8,3])\n",
    "        for i in range(8):\n",
    "            for j in range(8):\n",
    "                if(i%2 !=0 and j%2 != 0) or (i%2 ==0 and j%2 ==0):\n",
    "                    self.grid[i,j]=ChessBoard.white\n",
    "\n",
    "    \n",
    "    def add_red(self,row,column):\n",
    "        for i in range(8):\n",
    "            for j in range(8):\n",
    "                self.grid[row,column]=ChessBoard.red\n",
    "                \n",
    "                \n",
    "    def add_blue(self,row,column):\n",
    "        for i in range(8):\n",
    "            for j in range(8):\n",
    "                self.grid[row,column]=ChessBoard.blue\n",
    "\n",
    "    \n",
    "    def is_under_attack(self,redRow,redCol,blueRow,blueCol):\n",
    "        if(redRow == blueRow):\n",
    "            return True\n",
    "        elif(redCol == blueCol):\n",
    "            return True\n",
    "        elif((redCol-redRow)==(blueCol-blueRow)):\n",
    "            return True\n",
    "        elif((redRow-blueRow)==(blueCol-redCol)):\n",
    "            return True\n",
    "        else:\n",
    "            return False\n",
    " \n",
    "    def render(self):\n",
    "        plot.imshow(self.grid)\n",
    "    \n",
    "        "
   ]
  },
  {
   "cell_type": "code",
   "execution_count": 141,
   "metadata": {},
   "outputs": [
    {
     "name": "stdout",
     "output_type": "stream",
     "text": [
      "False\n"
     ]
    },
    {
     "data": {
      "image/png": "[encoded data removed]",
      "text/plain": [
       "<Figure size 432x288 with 1 Axes>"
      ]
     },
     "metadata": {
      "needs_background": "light"
     },
     "output_type": "display_data"
    }
   ],
   "source": [
    "a=ChessBoard()\n",
    "a.add_red(0,0)\n",
    "a.add_blue(2,6)\n",
    "print(a.is_under_attack(5,6,2,4))\n",
    "a.render()"
   ]
  },
  {
   "cell_type": "markdown",
   "metadata": {},
   "source": [
    "#### cases:\n",
    "* 0,1 >> 4,5 >>>> rc-rr == br-bc \"leftUp(red) to rightDown(blue)\"\n",
    "* 3,0 >> 1,2 >>>> rr-br == bc-rc \"leftDown(red) to rightup(blue)\"\n",
    "* 2,3 >> 5,0 >>>> rr-br == bc-rc \"rightUp(red) to leftDown(blue)\"\n",
    "* 1,6 >> 5,2 >>>> rr-br == bc-rc \"rightDown(red) to leftUp(blue)\""
   ]
  },
  {
   "cell_type": "code",
   "execution_count": 137,
   "metadata": {},
   "outputs": [],
   "source": [
    "def tests():\n",
    "    game = ChessBoard()\n",
    "    same_row = game.is_under_attack(2,1,2,7)\n",
    "    assert same_row == True\n",
    "    \n",
    "    same_col = game.is_under_attack(4,1,1,1)\n",
    "    assert same_col == True\n",
    "    \n",
    "    diagonal_one = game.is_under_attack(3,0,1,2)\n",
    "    assert diagonal_one == True\n",
    "    \n",
    "    diagonal_two = game.is_under_attack(0,1,4,5)\n",
    "    assert diagonal_two == True\n",
    "    \n",
    "    others = game.is_under_attack(5,6,2,4)\n",
    "    assert others == False\n",
    "    \n",
    "    print('** all TESTS passed **')"
   ]
  },
  {
   "cell_type": "code",
   "execution_count": 138,
   "metadata": {},
   "outputs": [
    {
     "name": "stdout",
     "output_type": "stream",
     "text": [
      "** all TESTS passed **\n"
     ]
    }
   ],
   "source": [
    "tests()"
   ]
  },
  {
   "cell_type": "code",
   "execution_count": null,
   "metadata": {},
   "outputs": [],
   "source": []
  }
 ],
 "metadata": {
  "kernelspec": {
   "display_name": "Python 3",
   "language": "python",
   "name": "python3"
  },
  "language_info": {
   "codemirror_mode": {
    "name": "ipython",
    "version": 3
   },
   "file_extension": ".py",
   "mimetype": "text/x-python",
   "name": "python",
   "nbconvert_exporter": "python",
   "pygments_lexer": "ipython3",
   "version": "3.9.0"
  }
 },
 "nbformat": 4,
 "nbformat_minor": 4
}
